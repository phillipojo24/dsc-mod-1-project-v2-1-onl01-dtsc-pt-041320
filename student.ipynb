{
 "cells": [
  {
   "cell_type": "markdown",
   "metadata": {},
   "source": [
    "## Final Project Submission\n",
    "\n",
    "Please fill out:\n",
    "* Student name: Phillip Ojo\n",
    "* Student pace: Part time\n",
    "* Scheduled project review date/time: \n",
    "* Instructor name: James Irving\n",
    "* Blog post URL:\n"
   ]
  },
  {
   "cell_type": "code",
   "execution_count": 1,
   "metadata": {},
   "outputs": [],
   "source": [
    "# Your code here - remember to use markdown cells for comments as well!\n",
    "import os, glob\n",
    "import pandas as pd\n",
    "import numpy as np\n",
    "import matplotlib.pyplot as plt\n",
    "import seaborn as sns\n"
   ]
  },
  {
   "cell_type": "code",
   "execution_count": 4,
   "metadata": {},
   "outputs": [],
   "source": [
    "os.listdir('zippedData/')\n",
    "files_list = glob.glob('zippedData/*')\n"
   ]
  },
  {
   "cell_type": "code",
   "execution_count": 5,
   "metadata": {},
   "outputs": [
    {
     "output_type": "stream",
     "name": "stdout",
     "text": "imdb.title.crew.csv.gz\ntmdb.movies.csv.gz\nimdb.title.akas.csv.gz\nimdb.title.ratings.csv.gz\nimdb.name.basics.csv.gz\nrt.reviews.tsv.gz\nimdb.title.basics.csv.gz\nrt.movie_info.tsv.gz\ntn.movie_budgets.csv.gz\nbom.movie_gross.csv.gz\nimdb.title.principals.csv.gz\n"
    }
   ],
   "source": [
    "DATA = {}\n",
    "for file in files_list:\n",
    "    key = file.split('/')[-1]\n",
    "    print(key)\n",
    "\n",
    "    try:\n",
    "        df = pd.read_csv(file)\n",
    "    except:\n",
    "        df = pd.read_csv(file, sep= '\\t', encoding= 'latin-1')\n",
    "\n",
    "    DATA[key] = df"
   ]
  },
  {
   "cell_type": "code",
   "execution_count": 7,
   "metadata": {},
   "outputs": [
    {
     "output_type": "stream",
     "name": "stdout",
     "text": "imdb.title.crew.csv.gz\n"
    },
    {
     "output_type": "display_data",
     "data": {
      "text/plain": "      tconst                      directors              writers\n0  tt0285252                      nm0899854            nm0899854\n1  tt0438973                            NaN  nm0175726,nm1802864\n2  tt0462036                      nm1940585            nm1940585\n3  tt0835418                      nm0151540  nm0310087,nm0841532\n4  tt0878654  nm0089502,nm2291498,nm2292011            nm0284943",
      "text/html": "<div>\n<style scoped>\n    .dataframe tbody tr th:only-of-type {\n        vertical-align: middle;\n    }\n\n    .dataframe tbody tr th {\n        vertical-align: top;\n    }\n\n    .dataframe thead th {\n        text-align: right;\n    }\n</style>\n<table border=\"1\" class=\"dataframe\">\n  <thead>\n    <tr style=\"text-align: right;\">\n      <th></th>\n      <th>tconst</th>\n      <th>directors</th>\n      <th>writers</th>\n    </tr>\n  </thead>\n  <tbody>\n    <tr>\n      <td>0</td>\n      <td>tt0285252</td>\n      <td>nm0899854</td>\n      <td>nm0899854</td>\n    </tr>\n    <tr>\n      <td>1</td>\n      <td>tt0438973</td>\n      <td>NaN</td>\n      <td>nm0175726,nm1802864</td>\n    </tr>\n    <tr>\n      <td>2</td>\n      <td>tt0462036</td>\n      <td>nm1940585</td>\n      <td>nm1940585</td>\n    </tr>\n    <tr>\n      <td>3</td>\n      <td>tt0835418</td>\n      <td>nm0151540</td>\n      <td>nm0310087,nm0841532</td>\n    </tr>\n    <tr>\n      <td>4</td>\n      <td>tt0878654</td>\n      <td>nm0089502,nm2291498,nm2292011</td>\n      <td>nm0284943</td>\n    </tr>\n  </tbody>\n</table>\n</div>"
     },
     "metadata": {}
    },
    {
     "output_type": "stream",
     "name": "stdout",
     "text": "\ntmdb.movies.csv.gz\n"
    },
    {
     "output_type": "display_data",
     "data": {
      "text/plain": "   Unnamed: 0            genre_ids     id original_language  \\\n0           0      [12, 14, 10751]  12444                en   \n1           1  [14, 12, 16, 10751]  10191                en   \n2           2        [12, 28, 878]  10138                en   \n3           3      [16, 35, 10751]    862                en   \n4           4        [28, 878, 12]  27205                en   \n\n                                 original_title  popularity release_date  \\\n0  Harry Potter and the Deathly Hallows: Part 1      33.533   2010-11-19   \n1                      How to Train Your Dragon      28.734   2010-03-26   \n2                                    Iron Man 2      28.515   2010-05-07   \n3                                     Toy Story      28.005   1995-11-22   \n4                                     Inception      27.920   2010-07-16   \n\n                                          title  vote_average  vote_count  \n0  Harry Potter and the Deathly Hallows: Part 1           7.7       10788  \n1                      How to Train Your Dragon           7.7        7610  \n2                                    Iron Man 2           6.8       12368  \n3                                     Toy Story           7.9       10174  \n4                                     Inception           8.3       22186  ",
      "text/html": "<div>\n<style scoped>\n    .dataframe tbody tr th:only-of-type {\n        vertical-align: middle;\n    }\n\n    .dataframe tbody tr th {\n        vertical-align: top;\n    }\n\n    .dataframe thead th {\n        text-align: right;\n    }\n</style>\n<table border=\"1\" class=\"dataframe\">\n  <thead>\n    <tr style=\"text-align: right;\">\n      <th></th>\n      <th>Unnamed: 0</th>\n      <th>genre_ids</th>\n      <th>id</th>\n      <th>original_language</th>\n      <th>original_title</th>\n      <th>popularity</th>\n      <th>release_date</th>\n      <th>title</th>\n      <th>vote_average</th>\n      <th>vote_count</th>\n    </tr>\n  </thead>\n  <tbody>\n    <tr>\n      <td>0</td>\n      <td>0</td>\n      <td>[12, 14, 10751]</td>\n      <td>12444</td>\n      <td>en</td>\n      <td>Harry Potter and the Deathly Hallows: Part 1</td>\n      <td>33.533</td>\n      <td>2010-11-19</td>\n      <td>Harry Potter and the Deathly Hallows: Part 1</td>\n      <td>7.7</td>\n      <td>10788</td>\n    </tr>\n    <tr>\n      <td>1</td>\n      <td>1</td>\n      <td>[14, 12, 16, 10751]</td>\n      <td>10191</td>\n      <td>en</td>\n      <td>How to Train Your Dragon</td>\n      <td>28.734</td>\n      <td>2010-03-26</td>\n      <td>How to Train Your Dragon</td>\n      <td>7.7</td>\n      <td>7610</td>\n    </tr>\n    <tr>\n      <td>2</td>\n      <td>2</td>\n      <td>[12, 28, 878]</td>\n      <td>10138</td>\n      <td>en</td>\n      <td>Iron Man 2</td>\n      <td>28.515</td>\n      <td>2010-05-07</td>\n      <td>Iron Man 2</td>\n      <td>6.8</td>\n      <td>12368</td>\n    </tr>\n    <tr>\n      <td>3</td>\n      <td>3</td>\n      <td>[16, 35, 10751]</td>\n      <td>862</td>\n      <td>en</td>\n      <td>Toy Story</td>\n      <td>28.005</td>\n      <td>1995-11-22</td>\n      <td>Toy Story</td>\n      <td>7.9</td>\n      <td>10174</td>\n    </tr>\n    <tr>\n      <td>4</td>\n      <td>4</td>\n      <td>[28, 878, 12]</td>\n      <td>27205</td>\n      <td>en</td>\n      <td>Inception</td>\n      <td>27.920</td>\n      <td>2010-07-16</td>\n      <td>Inception</td>\n      <td>8.3</td>\n      <td>22186</td>\n    </tr>\n  </tbody>\n</table>\n</div>"
     },
     "metadata": {}
    },
    {
     "output_type": "stream",
     "name": "stdout",
     "text": "\nimdb.title.akas.csv.gz\n"
    },
    {
     "output_type": "display_data",
     "data": {
      "text/plain": "    title_id  ordering                                    title region  \\\n0  tt0369610        10                            Джурасик свят     BG   \n1  tt0369610        11                        Jurashikku warudo     JP   \n2  tt0369610        12  Jurassic World: O Mundo dos Dinossauros     BR   \n3  tt0369610        13                  O Mundo dos Dinossauros     BR   \n4  tt0369610        14                           Jurassic World     FR   \n\n  language        types   attributes  is_original_title  \n0       bg          NaN          NaN                0.0  \n1      NaN  imdbDisplay          NaN                0.0  \n2      NaN  imdbDisplay          NaN                0.0  \n3      NaN          NaN  short title                0.0  \n4      NaN  imdbDisplay          NaN                0.0  ",
      "text/html": "<div>\n<style scoped>\n    .dataframe tbody tr th:only-of-type {\n        vertical-align: middle;\n    }\n\n    .dataframe tbody tr th {\n        vertical-align: top;\n    }\n\n    .dataframe thead th {\n        text-align: right;\n    }\n</style>\n<table border=\"1\" class=\"dataframe\">\n  <thead>\n    <tr style=\"text-align: right;\">\n      <th></th>\n      <th>title_id</th>\n      <th>ordering</th>\n      <th>title</th>\n      <th>region</th>\n      <th>language</th>\n      <th>types</th>\n      <th>attributes</th>\n      <th>is_original_title</th>\n    </tr>\n  </thead>\n  <tbody>\n    <tr>\n      <td>0</td>\n      <td>tt0369610</td>\n      <td>10</td>\n      <td>Джурасик свят</td>\n      <td>BG</td>\n      <td>bg</td>\n      <td>NaN</td>\n      <td>NaN</td>\n      <td>0.0</td>\n    </tr>\n    <tr>\n      <td>1</td>\n      <td>tt0369610</td>\n      <td>11</td>\n      <td>Jurashikku warudo</td>\n      <td>JP</td>\n      <td>NaN</td>\n      <td>imdbDisplay</td>\n      <td>NaN</td>\n      <td>0.0</td>\n    </tr>\n    <tr>\n      <td>2</td>\n      <td>tt0369610</td>\n      <td>12</td>\n      <td>Jurassic World: O Mundo dos Dinossauros</td>\n      <td>BR</td>\n      <td>NaN</td>\n      <td>imdbDisplay</td>\n      <td>NaN</td>\n      <td>0.0</td>\n    </tr>\n    <tr>\n      <td>3</td>\n      <td>tt0369610</td>\n      <td>13</td>\n      <td>O Mundo dos Dinossauros</td>\n      <td>BR</td>\n      <td>NaN</td>\n      <td>NaN</td>\n      <td>short title</td>\n      <td>0.0</td>\n    </tr>\n    <tr>\n      <td>4</td>\n      <td>tt0369610</td>\n      <td>14</td>\n      <td>Jurassic World</td>\n      <td>FR</td>\n      <td>NaN</td>\n      <td>imdbDisplay</td>\n      <td>NaN</td>\n      <td>0.0</td>\n    </tr>\n  </tbody>\n</table>\n</div>"
     },
     "metadata": {}
    },
    {
     "output_type": "stream",
     "name": "stdout",
     "text": "\nimdb.title.ratings.csv.gz\n"
    },
    {
     "output_type": "display_data",
     "data": {
      "text/plain": "       tconst  averagerating  numvotes\n0  tt10356526            8.3        31\n1  tt10384606            8.9       559\n2   tt1042974            6.4        20\n3   tt1043726            4.2     50352\n4   tt1060240            6.5        21",
      "text/html": "<div>\n<style scoped>\n    .dataframe tbody tr th:only-of-type {\n        vertical-align: middle;\n    }\n\n    .dataframe tbody tr th {\n        vertical-align: top;\n    }\n\n    .dataframe thead th {\n        text-align: right;\n    }\n</style>\n<table border=\"1\" class=\"dataframe\">\n  <thead>\n    <tr style=\"text-align: right;\">\n      <th></th>\n      <th>tconst</th>\n      <th>averagerating</th>\n      <th>numvotes</th>\n    </tr>\n  </thead>\n  <tbody>\n    <tr>\n      <td>0</td>\n      <td>tt10356526</td>\n      <td>8.3</td>\n      <td>31</td>\n    </tr>\n    <tr>\n      <td>1</td>\n      <td>tt10384606</td>\n      <td>8.9</td>\n      <td>559</td>\n    </tr>\n    <tr>\n      <td>2</td>\n      <td>tt1042974</td>\n      <td>6.4</td>\n      <td>20</td>\n    </tr>\n    <tr>\n      <td>3</td>\n      <td>tt1043726</td>\n      <td>4.2</td>\n      <td>50352</td>\n    </tr>\n    <tr>\n      <td>4</td>\n      <td>tt1060240</td>\n      <td>6.5</td>\n      <td>21</td>\n    </tr>\n  </tbody>\n</table>\n</div>"
     },
     "metadata": {}
    },
    {
     "output_type": "stream",
     "name": "stdout",
     "text": "\nimdb.name.basics.csv.gz\n"
    },
    {
     "output_type": "display_data",
     "data": {
      "text/plain": "      nconst       primary_name  birth_year  death_year  \\\n0  nm0061671  Mary Ellen Bauder         NaN         NaN   \n1  nm0061865       Joseph Bauer         NaN         NaN   \n2  nm0062070         Bruce Baum         NaN         NaN   \n3  nm0062195       Axel Baumann         NaN         NaN   \n4  nm0062798        Pete Baxter         NaN         NaN   \n\n                                 primary_profession  \\\n0         miscellaneous,production_manager,producer   \n1        composer,music_department,sound_department   \n2                        miscellaneous,actor,writer   \n3  camera_department,cinematographer,art_department   \n4  production_designer,art_department,set_decorator   \n\n                          known_for_titles  \n0  tt0837562,tt2398241,tt0844471,tt0118553  \n1  tt0896534,tt6791238,tt0287072,tt1682940  \n2  tt1470654,tt0363631,tt0104030,tt0102898  \n3  tt0114371,tt2004304,tt1618448,tt1224387  \n4  tt0452644,tt0452692,tt3458030,tt2178256  ",
      "text/html": "<div>\n<style scoped>\n    .dataframe tbody tr th:only-of-type {\n        vertical-align: middle;\n    }\n\n    .dataframe tbody tr th {\n        vertical-align: top;\n    }\n\n    .dataframe thead th {\n        text-align: right;\n    }\n</style>\n<table border=\"1\" class=\"dataframe\">\n  <thead>\n    <tr style=\"text-align: right;\">\n      <th></th>\n      <th>nconst</th>\n      <th>primary_name</th>\n      <th>birth_year</th>\n      <th>death_year</th>\n      <th>primary_profession</th>\n      <th>known_for_titles</th>\n    </tr>\n  </thead>\n  <tbody>\n    <tr>\n      <td>0</td>\n      <td>nm0061671</td>\n      <td>Mary Ellen Bauder</td>\n      <td>NaN</td>\n      <td>NaN</td>\n      <td>miscellaneous,production_manager,producer</td>\n      <td>tt0837562,tt2398241,tt0844471,tt0118553</td>\n    </tr>\n    <tr>\n      <td>1</td>\n      <td>nm0061865</td>\n      <td>Joseph Bauer</td>\n      <td>NaN</td>\n      <td>NaN</td>\n      <td>composer,music_department,sound_department</td>\n      <td>tt0896534,tt6791238,tt0287072,tt1682940</td>\n    </tr>\n    <tr>\n      <td>2</td>\n      <td>nm0062070</td>\n      <td>Bruce Baum</td>\n      <td>NaN</td>\n      <td>NaN</td>\n      <td>miscellaneous,actor,writer</td>\n      <td>tt1470654,tt0363631,tt0104030,tt0102898</td>\n    </tr>\n    <tr>\n      <td>3</td>\n      <td>nm0062195</td>\n      <td>Axel Baumann</td>\n      <td>NaN</td>\n      <td>NaN</td>\n      <td>camera_department,cinematographer,art_department</td>\n      <td>tt0114371,tt2004304,tt1618448,tt1224387</td>\n    </tr>\n    <tr>\n      <td>4</td>\n      <td>nm0062798</td>\n      <td>Pete Baxter</td>\n      <td>NaN</td>\n      <td>NaN</td>\n      <td>production_designer,art_department,set_decorator</td>\n      <td>tt0452644,tt0452692,tt3458030,tt2178256</td>\n    </tr>\n  </tbody>\n</table>\n</div>"
     },
     "metadata": {}
    },
    {
     "output_type": "stream",
     "name": "stdout",
     "text": "\nrt.reviews.tsv.gz\n"
    },
    {
     "output_type": "display_data",
     "data": {
      "text/plain": "   id                                             review rating   fresh  \\\n0   3  A distinctly gallows take on contemporary fina...    3/5   fresh   \n1   3  It's an allegory in search of a meaning that n...    NaN  rotten   \n2   3  ... life lived in a bubble in financial dealin...    NaN   fresh   \n3   3  Continuing along a line introduced in last yea...    NaN   fresh   \n4   3             ... a perverse twist on neorealism...     NaN   fresh   \n\n           critic  top_critic         publisher               date  \n0      PJ Nabarro           0   Patrick Nabarro  November 10, 2018  \n1  Annalee Newitz           0           io9.com       May 23, 2018  \n2    Sean Axmaker           0  Stream on Demand    January 4, 2018  \n3   Daniel Kasman           0              MUBI  November 16, 2017  \n4             NaN           0      Cinema Scope   October 12, 2017  ",
      "text/html": "<div>\n<style scoped>\n    .dataframe tbody tr th:only-of-type {\n        vertical-align: middle;\n    }\n\n    .dataframe tbody tr th {\n        vertical-align: top;\n    }\n\n    .dataframe thead th {\n        text-align: right;\n    }\n</style>\n<table border=\"1\" class=\"dataframe\">\n  <thead>\n    <tr style=\"text-align: right;\">\n      <th></th>\n      <th>id</th>\n      <th>review</th>\n      <th>rating</th>\n      <th>fresh</th>\n      <th>critic</th>\n      <th>top_critic</th>\n      <th>publisher</th>\n      <th>date</th>\n    </tr>\n  </thead>\n  <tbody>\n    <tr>\n      <td>0</td>\n      <td>3</td>\n      <td>A distinctly gallows take on contemporary fina...</td>\n      <td>3/5</td>\n      <td>fresh</td>\n      <td>PJ Nabarro</td>\n      <td>0</td>\n      <td>Patrick Nabarro</td>\n      <td>November 10, 2018</td>\n    </tr>\n    <tr>\n      <td>1</td>\n      <td>3</td>\n      <td>It's an allegory in search of a meaning that n...</td>\n      <td>NaN</td>\n      <td>rotten</td>\n      <td>Annalee Newitz</td>\n      <td>0</td>\n      <td>io9.com</td>\n      <td>May 23, 2018</td>\n    </tr>\n    <tr>\n      <td>2</td>\n      <td>3</td>\n      <td>... life lived in a bubble in financial dealin...</td>\n      <td>NaN</td>\n      <td>fresh</td>\n      <td>Sean Axmaker</td>\n      <td>0</td>\n      <td>Stream on Demand</td>\n      <td>January 4, 2018</td>\n    </tr>\n    <tr>\n      <td>3</td>\n      <td>3</td>\n      <td>Continuing along a line introduced in last yea...</td>\n      <td>NaN</td>\n      <td>fresh</td>\n      <td>Daniel Kasman</td>\n      <td>0</td>\n      <td>MUBI</td>\n      <td>November 16, 2017</td>\n    </tr>\n    <tr>\n      <td>4</td>\n      <td>3</td>\n      <td>... a perverse twist on neorealism...</td>\n      <td>NaN</td>\n      <td>fresh</td>\n      <td>NaN</td>\n      <td>0</td>\n      <td>Cinema Scope</td>\n      <td>October 12, 2017</td>\n    </tr>\n  </tbody>\n</table>\n</div>"
     },
     "metadata": {}
    },
    {
     "output_type": "stream",
     "name": "stdout",
     "text": "\nimdb.title.basics.csv.gz\n"
    },
    {
     "output_type": "display_data",
     "data": {
      "text/plain": "      tconst                    primary_title              original_title  \\\n0  tt0063540                        Sunghursh                   Sunghursh   \n1  tt0066787  One Day Before the Rainy Season             Ashad Ka Ek Din   \n2  tt0069049       The Other Side of the Wind  The Other Side of the Wind   \n3  tt0069204                  Sabse Bada Sukh             Sabse Bada Sukh   \n4  tt0100275         The Wandering Soap Opera       La Telenovela Errante   \n\n   start_year  runtime_minutes                genres  \n0        2013            175.0    Action,Crime,Drama  \n1        2019            114.0       Biography,Drama  \n2        2018            122.0                 Drama  \n3        2018              NaN          Comedy,Drama  \n4        2017             80.0  Comedy,Drama,Fantasy  ",
      "text/html": "<div>\n<style scoped>\n    .dataframe tbody tr th:only-of-type {\n        vertical-align: middle;\n    }\n\n    .dataframe tbody tr th {\n        vertical-align: top;\n    }\n\n    .dataframe thead th {\n        text-align: right;\n    }\n</style>\n<table border=\"1\" class=\"dataframe\">\n  <thead>\n    <tr style=\"text-align: right;\">\n      <th></th>\n      <th>tconst</th>\n      <th>primary_title</th>\n      <th>original_title</th>\n      <th>start_year</th>\n      <th>runtime_minutes</th>\n      <th>genres</th>\n    </tr>\n  </thead>\n  <tbody>\n    <tr>\n      <td>0</td>\n      <td>tt0063540</td>\n      <td>Sunghursh</td>\n      <td>Sunghursh</td>\n      <td>2013</td>\n      <td>175.0</td>\n      <td>Action,Crime,Drama</td>\n    </tr>\n    <tr>\n      <td>1</td>\n      <td>tt0066787</td>\n      <td>One Day Before the Rainy Season</td>\n      <td>Ashad Ka Ek Din</td>\n      <td>2019</td>\n      <td>114.0</td>\n      <td>Biography,Drama</td>\n    </tr>\n    <tr>\n      <td>2</td>\n      <td>tt0069049</td>\n      <td>The Other Side of the Wind</td>\n      <td>The Other Side of the Wind</td>\n      <td>2018</td>\n      <td>122.0</td>\n      <td>Drama</td>\n    </tr>\n    <tr>\n      <td>3</td>\n      <td>tt0069204</td>\n      <td>Sabse Bada Sukh</td>\n      <td>Sabse Bada Sukh</td>\n      <td>2018</td>\n      <td>NaN</td>\n      <td>Comedy,Drama</td>\n    </tr>\n    <tr>\n      <td>4</td>\n      <td>tt0100275</td>\n      <td>The Wandering Soap Opera</td>\n      <td>La Telenovela Errante</td>\n      <td>2017</td>\n      <td>80.0</td>\n      <td>Comedy,Drama,Fantasy</td>\n    </tr>\n  </tbody>\n</table>\n</div>"
     },
     "metadata": {}
    },
    {
     "output_type": "stream",
     "name": "stdout",
     "text": "\nrt.movie_info.tsv.gz\n"
    },
    {
     "output_type": "display_data",
     "data": {
      "text/plain": "   id                                           synopsis rating  \\\n0   1  This gritty, fast-paced, and innovative police...      R   \n1   3  New York City, not-too-distant-future: Eric Pa...      R   \n2   5  Illeana Douglas delivers a superb performance ...      R   \n3   6  Michael Douglas runs afoul of a treacherous su...      R   \n4   7                                                NaN     NR   \n\n                                 genre          director  \\\n0  Action and Adventure|Classics|Drama  William Friedkin   \n1    Drama|Science Fiction and Fantasy  David Cronenberg   \n2    Drama|Musical and Performing Arts    Allison Anders   \n3           Drama|Mystery and Suspense    Barry Levinson   \n4                        Drama|Romance    Rodney Bennett   \n\n                            writer  theater_date      dvd_date currency  \\\n0                   Ernest Tidyman   Oct 9, 1971  Sep 25, 2001      NaN   \n1     David Cronenberg|Don DeLillo  Aug 17, 2012   Jan 1, 2013        $   \n2                   Allison Anders  Sep 13, 1996  Apr 18, 2000      NaN   \n3  Paul Attanasio|Michael Crichton   Dec 9, 1994  Aug 27, 1997      NaN   \n4                     Giles Cooper           NaN           NaN      NaN   \n\n  box_office      runtime             studio  \n0        NaN  104 minutes                NaN  \n1    600,000  108 minutes  Entertainment One  \n2        NaN  116 minutes                NaN  \n3        NaN  128 minutes                NaN  \n4        NaN  200 minutes                NaN  ",
      "text/html": "<div>\n<style scoped>\n    .dataframe tbody tr th:only-of-type {\n        vertical-align: middle;\n    }\n\n    .dataframe tbody tr th {\n        vertical-align: top;\n    }\n\n    .dataframe thead th {\n        text-align: right;\n    }\n</style>\n<table border=\"1\" class=\"dataframe\">\n  <thead>\n    <tr style=\"text-align: right;\">\n      <th></th>\n      <th>id</th>\n      <th>synopsis</th>\n      <th>rating</th>\n      <th>genre</th>\n      <th>director</th>\n      <th>writer</th>\n      <th>theater_date</th>\n      <th>dvd_date</th>\n      <th>currency</th>\n      <th>box_office</th>\n      <th>runtime</th>\n      <th>studio</th>\n    </tr>\n  </thead>\n  <tbody>\n    <tr>\n      <td>0</td>\n      <td>1</td>\n      <td>This gritty, fast-paced, and innovative police...</td>\n      <td>R</td>\n      <td>Action and Adventure|Classics|Drama</td>\n      <td>William Friedkin</td>\n      <td>Ernest Tidyman</td>\n      <td>Oct 9, 1971</td>\n      <td>Sep 25, 2001</td>\n      <td>NaN</td>\n      <td>NaN</td>\n      <td>104 minutes</td>\n      <td>NaN</td>\n    </tr>\n    <tr>\n      <td>1</td>\n      <td>3</td>\n      <td>New York City, not-too-distant-future: Eric Pa...</td>\n      <td>R</td>\n      <td>Drama|Science Fiction and Fantasy</td>\n      <td>David Cronenberg</td>\n      <td>David Cronenberg|Don DeLillo</td>\n      <td>Aug 17, 2012</td>\n      <td>Jan 1, 2013</td>\n      <td>$</td>\n      <td>600,000</td>\n      <td>108 minutes</td>\n      <td>Entertainment One</td>\n    </tr>\n    <tr>\n      <td>2</td>\n      <td>5</td>\n      <td>Illeana Douglas delivers a superb performance ...</td>\n      <td>R</td>\n      <td>Drama|Musical and Performing Arts</td>\n      <td>Allison Anders</td>\n      <td>Allison Anders</td>\n      <td>Sep 13, 1996</td>\n      <td>Apr 18, 2000</td>\n      <td>NaN</td>\n      <td>NaN</td>\n      <td>116 minutes</td>\n      <td>NaN</td>\n    </tr>\n    <tr>\n      <td>3</td>\n      <td>6</td>\n      <td>Michael Douglas runs afoul of a treacherous su...</td>\n      <td>R</td>\n      <td>Drama|Mystery and Suspense</td>\n      <td>Barry Levinson</td>\n      <td>Paul Attanasio|Michael Crichton</td>\n      <td>Dec 9, 1994</td>\n      <td>Aug 27, 1997</td>\n      <td>NaN</td>\n      <td>NaN</td>\n      <td>128 minutes</td>\n      <td>NaN</td>\n    </tr>\n    <tr>\n      <td>4</td>\n      <td>7</td>\n      <td>NaN</td>\n      <td>NR</td>\n      <td>Drama|Romance</td>\n      <td>Rodney Bennett</td>\n      <td>Giles Cooper</td>\n      <td>NaN</td>\n      <td>NaN</td>\n      <td>NaN</td>\n      <td>NaN</td>\n      <td>200 minutes</td>\n      <td>NaN</td>\n    </tr>\n  </tbody>\n</table>\n</div>"
     },
     "metadata": {}
    },
    {
     "output_type": "stream",
     "name": "stdout",
     "text": "\ntn.movie_budgets.csv.gz\n"
    },
    {
     "output_type": "display_data",
     "data": {
      "text/plain": "   id  release_date                                        movie  \\\n0   1  Dec 18, 2009                                       Avatar   \n1   2  May 20, 2011  Pirates of the Caribbean: On Stranger Tides   \n2   3   Jun 7, 2019                                 Dark Phoenix   \n3   4   May 1, 2015                      Avengers: Age of Ultron   \n4   5  Dec 15, 2017            Star Wars Ep. VIII: The Last Jedi   \n\n  production_budget domestic_gross worldwide_gross  \n0      $425,000,000   $760,507,625  $2,776,345,279  \n1      $410,600,000   $241,063,875  $1,045,663,875  \n2      $350,000,000    $42,762,350    $149,762,350  \n3      $330,600,000   $459,005,868  $1,403,013,963  \n4      $317,000,000   $620,181,382  $1,316,721,747  ",
      "text/html": "<div>\n<style scoped>\n    .dataframe tbody tr th:only-of-type {\n        vertical-align: middle;\n    }\n\n    .dataframe tbody tr th {\n        vertical-align: top;\n    }\n\n    .dataframe thead th {\n        text-align: right;\n    }\n</style>\n<table border=\"1\" class=\"dataframe\">\n  <thead>\n    <tr style=\"text-align: right;\">\n      <th></th>\n      <th>id</th>\n      <th>release_date</th>\n      <th>movie</th>\n      <th>production_budget</th>\n      <th>domestic_gross</th>\n      <th>worldwide_gross</th>\n    </tr>\n  </thead>\n  <tbody>\n    <tr>\n      <td>0</td>\n      <td>1</td>\n      <td>Dec 18, 2009</td>\n      <td>Avatar</td>\n      <td>$425,000,000</td>\n      <td>$760,507,625</td>\n      <td>$2,776,345,279</td>\n    </tr>\n    <tr>\n      <td>1</td>\n      <td>2</td>\n      <td>May 20, 2011</td>\n      <td>Pirates of the Caribbean: On Stranger Tides</td>\n      <td>$410,600,000</td>\n      <td>$241,063,875</td>\n      <td>$1,045,663,875</td>\n    </tr>\n    <tr>\n      <td>2</td>\n      <td>3</td>\n      <td>Jun 7, 2019</td>\n      <td>Dark Phoenix</td>\n      <td>$350,000,000</td>\n      <td>$42,762,350</td>\n      <td>$149,762,350</td>\n    </tr>\n    <tr>\n      <td>3</td>\n      <td>4</td>\n      <td>May 1, 2015</td>\n      <td>Avengers: Age of Ultron</td>\n      <td>$330,600,000</td>\n      <td>$459,005,868</td>\n      <td>$1,403,013,963</td>\n    </tr>\n    <tr>\n      <td>4</td>\n      <td>5</td>\n      <td>Dec 15, 2017</td>\n      <td>Star Wars Ep. VIII: The Last Jedi</td>\n      <td>$317,000,000</td>\n      <td>$620,181,382</td>\n      <td>$1,316,721,747</td>\n    </tr>\n  </tbody>\n</table>\n</div>"
     },
     "metadata": {}
    },
    {
     "output_type": "stream",
     "name": "stdout",
     "text": "\nbom.movie_gross.csv.gz\n"
    },
    {
     "output_type": "display_data",
     "data": {
      "text/plain": "                                         title studio  domestic_gross  \\\n0                                  Toy Story 3     BV     415000000.0   \n1                   Alice in Wonderland (2010)     BV     334200000.0   \n2  Harry Potter and the Deathly Hallows Part 1     WB     296000000.0   \n3                                    Inception     WB     292600000.0   \n4                          Shrek Forever After   P/DW     238700000.0   \n\n  foreign_gross  year  \n0     652000000  2010  \n1     691300000  2010  \n2     664300000  2010  \n3     535700000  2010  \n4     513900000  2010  ",
      "text/html": "<div>\n<style scoped>\n    .dataframe tbody tr th:only-of-type {\n        vertical-align: middle;\n    }\n\n    .dataframe tbody tr th {\n        vertical-align: top;\n    }\n\n    .dataframe thead th {\n        text-align: right;\n    }\n</style>\n<table border=\"1\" class=\"dataframe\">\n  <thead>\n    <tr style=\"text-align: right;\">\n      <th></th>\n      <th>title</th>\n      <th>studio</th>\n      <th>domestic_gross</th>\n      <th>foreign_gross</th>\n      <th>year</th>\n    </tr>\n  </thead>\n  <tbody>\n    <tr>\n      <td>0</td>\n      <td>Toy Story 3</td>\n      <td>BV</td>\n      <td>415000000.0</td>\n      <td>652000000</td>\n      <td>2010</td>\n    </tr>\n    <tr>\n      <td>1</td>\n      <td>Alice in Wonderland (2010)</td>\n      <td>BV</td>\n      <td>334200000.0</td>\n      <td>691300000</td>\n      <td>2010</td>\n    </tr>\n    <tr>\n      <td>2</td>\n      <td>Harry Potter and the Deathly Hallows Part 1</td>\n      <td>WB</td>\n      <td>296000000.0</td>\n      <td>664300000</td>\n      <td>2010</td>\n    </tr>\n    <tr>\n      <td>3</td>\n      <td>Inception</td>\n      <td>WB</td>\n      <td>292600000.0</td>\n      <td>535700000</td>\n      <td>2010</td>\n    </tr>\n    <tr>\n      <td>4</td>\n      <td>Shrek Forever After</td>\n      <td>P/DW</td>\n      <td>238700000.0</td>\n      <td>513900000</td>\n      <td>2010</td>\n    </tr>\n  </tbody>\n</table>\n</div>"
     },
     "metadata": {}
    },
    {
     "output_type": "stream",
     "name": "stdout",
     "text": "\nimdb.title.principals.csv.gz\n"
    },
    {
     "output_type": "display_data",
     "data": {
      "text/plain": "      tconst  ordering     nconst  category       job        characters\n0  tt0111414         1  nm0246005     actor       NaN       [\"The Man\"]\n1  tt0111414         2  nm0398271  director       NaN               NaN\n2  tt0111414         3  nm3739909  producer  producer               NaN\n3  tt0323808        10  nm0059247    editor       NaN               NaN\n4  tt0323808         1  nm3579312   actress       NaN  [\"Beth Boothby\"]",
      "text/html": "<div>\n<style scoped>\n    .dataframe tbody tr th:only-of-type {\n        vertical-align: middle;\n    }\n\n    .dataframe tbody tr th {\n        vertical-align: top;\n    }\n\n    .dataframe thead th {\n        text-align: right;\n    }\n</style>\n<table border=\"1\" class=\"dataframe\">\n  <thead>\n    <tr style=\"text-align: right;\">\n      <th></th>\n      <th>tconst</th>\n      <th>ordering</th>\n      <th>nconst</th>\n      <th>category</th>\n      <th>job</th>\n      <th>characters</th>\n    </tr>\n  </thead>\n  <tbody>\n    <tr>\n      <td>0</td>\n      <td>tt0111414</td>\n      <td>1</td>\n      <td>nm0246005</td>\n      <td>actor</td>\n      <td>NaN</td>\n      <td>[\"The Man\"]</td>\n    </tr>\n    <tr>\n      <td>1</td>\n      <td>tt0111414</td>\n      <td>2</td>\n      <td>nm0398271</td>\n      <td>director</td>\n      <td>NaN</td>\n      <td>NaN</td>\n    </tr>\n    <tr>\n      <td>2</td>\n      <td>tt0111414</td>\n      <td>3</td>\n      <td>nm3739909</td>\n      <td>producer</td>\n      <td>producer</td>\n      <td>NaN</td>\n    </tr>\n    <tr>\n      <td>3</td>\n      <td>tt0323808</td>\n      <td>10</td>\n      <td>nm0059247</td>\n      <td>editor</td>\n      <td>NaN</td>\n      <td>NaN</td>\n    </tr>\n    <tr>\n      <td>4</td>\n      <td>tt0323808</td>\n      <td>1</td>\n      <td>nm3579312</td>\n      <td>actress</td>\n      <td>NaN</td>\n      <td>[\"Beth Boothby\"]</td>\n    </tr>\n  </tbody>\n</table>\n</div>"
     },
     "metadata": {}
    },
    {
     "output_type": "stream",
     "name": "stdout",
     "text": "\n"
    }
   ],
   "source": [
    "for filename, df in DATA.items():\n",
    "    print(filename)\n",
    "    display(df.head())\n",
    "    print()"
   ]
  },
  {
   "cell_type": "code",
   "execution_count": null,
   "metadata": {},
   "outputs": [],
   "source": []
  }
 ],
 "metadata": {
  "kernelspec": {
   "display_name": "Python 3.6.9 64-bit ('learn-env': conda)",
   "language": "python",
   "name": "python36964bitlearnenvconda20d18a491eb34b2d993dc02b8702d9af"
  },
  "language_info": {
   "codemirror_mode": {
    "name": "ipython",
    "version": 3
   },
   "file_extension": ".py",
   "mimetype": "text/x-python",
   "name": "python",
   "nbconvert_exporter": "python",
   "pygments_lexer": "ipython3",
   "version": "3.6.9-final"
  }
 },
 "nbformat": 4,
 "nbformat_minor": 2
}